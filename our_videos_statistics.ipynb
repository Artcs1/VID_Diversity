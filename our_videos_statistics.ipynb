{
 "cells": [
  {
   "cell_type": "code",
   "execution_count": 5,
   "id": "fa091b76-53d2-4b67-97da-fc8e7455a888",
   "metadata": {},
   "outputs": [
    {
     "name": "stdout",
     "output_type": "stream",
     "text": [
      "135\n",
      "2102\n"
     ]
    },
    {
     "name": "stderr",
     "output_type": "stream",
     "text": [
      "[mov,mp4,m4a,3gp,3g2,mj2 @ 0x555555e99e40] moov atom not found\n"
     ]
    },
    {
     "name": "stdout",
     "output_type": "stream",
     "text": [
      "2101\n",
      "[23 24 25 29 30 50 59 60]\n",
      "[ 0  4  5  6  7  8  9 10 11 13 14 15 16 20 21 28 29 30 32 33 34 37 46 47\n",
      " 48 50 51 52 53 54 55 56 57 58 59 60 61 62 63 64 65 66 67 68 69]\n"
     ]
    }
   ],
   "source": [
    "import os\n",
    "import cv2\n",
    "import glob\n",
    "import shutil\n",
    "import numpy as np\n",
    "\n",
    "paths = ['/gpfs/projects/CascanteBonillaGroup/datasets/walking_tours_2/downloads/*/','/gpfs/projects/CascanteBonillaGroup/datasets/walking_tours_2/single_file_downloads/*/']\n",
    "full_video_paths = []\n",
    "\n",
    "n_paths = 0 \n",
    "for path in paths:\n",
    "    dirs = glob.glob(path)\n",
    "    n_fl = len(dirs)\n",
    "    n_paths += n_fl\n",
    "    cont = 0\n",
    "    individual_files = 0\n",
    "    for item_dir in dirs:\n",
    "        safe_dir = glob.escape(item_dir)\n",
    "        pattern = os.path.join(safe_dir, '*.mp4')\n",
    "        files = glob.glob(pattern)\n",
    "        files.sort()\n",
    "        if files != []:\n",
    "            cont+=1\n",
    "            tam = len(files)\n",
    "            individual_files+=len(files)\n",
    "            if tam > 1:\n",
    "                full_video_paths.extend(files[1:])\n",
    "\n",
    "FPS, SECS = [], []\n",
    "print(n_paths)\n",
    "print(len(full_video_paths))\n",
    "for f_video in full_video_paths:\n",
    "\n",
    "    #print(f_video)\n",
    "\n",
    "    cap = cv2.VideoCapture(f_video)\n",
    "    width  = int(cap.get(cv2.CAP_PROP_FRAME_WIDTH))\n",
    "    height = int(cap.get(cv2.CAP_PROP_FRAME_HEIGHT))\n",
    "    fps     = int(cap.get(cv2.CAP_PROP_FPS))\n",
    "    total_frames = int(cap.get(cv2.CAP_PROP_FRAME_COUNT))\n",
    "    if fps!=0:\n",
    "        #print(fps)\n",
    "        secs = total_frames // fps\n",
    "        \n",
    "        FPS.append(fps)\n",
    "        SECS.append(secs)\n",
    "        \n",
    "        folder_name = f_video.split('/')[7]\n",
    "        city_country_part = folder_name.split(\" - \")[0]\n",
    "        city, country = city_country_part.split(\"_\")\n",
    "\n",
    "    cap.release()\n",
    "\n",
    "print(len(FPS))\n",
    "print(np.unique(FPS))\n",
    "print(np.unique(SECS))"
   ]
  },
  {
   "cell_type": "code",
   "execution_count": null,
   "id": "e30628b7-f392-49a4-ab9e-3157aea8bd70",
   "metadata": {},
   "outputs": [],
   "source": []
  }
 ],
 "metadata": {
  "kernelspec": {
   "display_name": "Python 3 (ipykernel)",
   "language": "python",
   "name": "python3"
  },
  "language_info": {
   "codemirror_mode": {
    "name": "ipython",
    "version": 3
   },
   "file_extension": ".py",
   "mimetype": "text/x-python",
   "name": "python",
   "nbconvert_exporter": "python",
   "pygments_lexer": "ipython3",
   "version": "3.10.18"
  }
 },
 "nbformat": 4,
 "nbformat_minor": 5
}
